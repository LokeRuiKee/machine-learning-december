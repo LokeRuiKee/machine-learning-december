{
 "cells": [
  {
   "cell_type": "markdown",
   "id": "c4506195",
   "metadata": {},
   "source": [
    "# Explore Your Data"
   ]
  },
  {
   "cell_type": "markdown",
   "id": "137af635",
   "metadata": {},
   "source": [
    "https://www.kaggle.com/code/lokeruikee/exercise-explore-your-data"
   ]
  },
  {
   "cell_type": "markdown",
   "id": "625492a6",
   "metadata": {},
   "source": [
    "# Your First Machine Learning Model"
   ]
  },
  {
   "cell_type": "markdown",
   "id": "61a87206",
   "metadata": {},
   "source": [
    "https://www.kaggle.com/code/lokeruikee/exercise-your-first-machine-learning-model"
   ]
  },
  {
   "cell_type": "markdown",
   "id": "af059771",
   "metadata": {},
   "source": [
    "# Model Validation"
   ]
  },
  {
   "cell_type": "markdown",
   "id": "4f61630a",
   "metadata": {},
   "source": [
    "https://www.kaggle.com/code/lokeruikee/exercise-model-validation"
   ]
  },
  {
   "cell_type": "code",
   "execution_count": null,
   "id": "879129d5",
   "metadata": {},
   "outputs": [],
   "source": []
  }
 ],
 "metadata": {
  "kernelspec": {
   "display_name": "Python 3 (ipykernel)",
   "language": "python",
   "name": "python3"
  },
  "language_info": {
   "codemirror_mode": {
    "name": "ipython",
    "version": 3
   },
   "file_extension": ".py",
   "mimetype": "text/x-python",
   "name": "python",
   "nbconvert_exporter": "python",
   "pygments_lexer": "ipython3",
   "version": "3.10.8"
  }
 },
 "nbformat": 4,
 "nbformat_minor": 5
}
