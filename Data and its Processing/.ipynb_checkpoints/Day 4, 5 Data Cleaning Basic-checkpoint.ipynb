{
 "cells": [
  {
   "cell_type": "markdown",
   "id": "48cfd372",
   "metadata": {},
   "source": [
    "# Kaggle Learn data cleaning course: https://www.kaggle.com/learn/data-cleaning"
   ]
  },
  {
   "cell_type": "markdown",
   "id": "478c1f42",
   "metadata": {},
   "source": [
    "# Handling Missing Values"
   ]
  },
  {
   "cell_type": "markdown",
   "id": "2cd0677c",
   "metadata": {},
   "source": [
    "View the exercise done: https://www.kaggle.com/code/lokeruikee/exercise-handling-missing-values"
   ]
  },
  {
   "cell_type": "markdown",
   "id": "4da09458",
   "metadata": {},
   "source": [
    "# Scaling and Normalization"
   ]
  },
  {
   "cell_type": "markdown",
   "id": "8afe3f9f",
   "metadata": {},
   "source": [
    "https://www.kaggle.com/code/lokeruikee/exercise-scaling-and-normalization"
   ]
  },
  {
   "cell_type": "markdown",
   "id": "324f7714",
   "metadata": {},
   "source": [
    "# Parsing Dates"
   ]
  },
  {
   "cell_type": "markdown",
   "id": "d7f85bdd",
   "metadata": {},
   "source": [
    "https://www.kaggle.com/code/lokeruikee/exercise-parsing-dates"
   ]
  },
  {
   "cell_type": "code",
   "execution_count": null,
   "id": "55ea486b",
   "metadata": {},
   "outputs": [],
   "source": []
  }
 ],
 "metadata": {
  "kernelspec": {
   "display_name": "Python 3 (ipykernel)",
   "language": "python",
   "name": "python3"
  },
  "language_info": {
   "codemirror_mode": {
    "name": "ipython",
    "version": 3
   },
   "file_extension": ".py",
   "mimetype": "text/x-python",
   "name": "python",
   "nbconvert_exporter": "python",
   "pygments_lexer": "ipython3",
   "version": "3.10.8"
  }
 },
 "nbformat": 4,
 "nbformat_minor": 5
}
