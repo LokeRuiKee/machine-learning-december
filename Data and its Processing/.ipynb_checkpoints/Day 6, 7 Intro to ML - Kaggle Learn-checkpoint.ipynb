{
 "cells": [
  {
   "cell_type": "markdown",
   "id": "f804425b",
   "metadata": {},
   "source": [
    "# Explore Your Data"
   ]
  },
  {
   "cell_type": "markdown",
   "id": "b1aff69b",
   "metadata": {},
   "source": [
    "https://www.kaggle.com/code/lokeruikee/exercise-explore-your-data"
   ]
  },
  {
   "cell_type": "markdown",
   "id": "f246d9a1",
   "metadata": {},
   "source": [
    "# Your First Machine Learning Model"
   ]
  },
  {
   "cell_type": "markdown",
   "id": "fa845d10",
   "metadata": {},
   "source": [
    "https://www.kaggle.com/code/lokeruikee/exercise-your-first-machine-learning-model"
   ]
  },
  {
   "cell_type": "markdown",
   "id": "fe0166bf",
   "metadata": {},
   "source": [
    "# Model Validation"
   ]
  },
  {
   "cell_type": "markdown",
   "id": "559c3174",
   "metadata": {},
   "source": []
  }
 ],
 "metadata": {
  "kernelspec": {
   "display_name": "Python 3 (ipykernel)",
   "language": "python",
   "name": "python3"
  },
  "language_info": {
   "codemirror_mode": {
    "name": "ipython",
    "version": 3
   },
   "file_extension": ".py",
   "mimetype": "text/x-python",
   "name": "python",
   "nbconvert_exporter": "python",
   "pygments_lexer": "ipython3",
   "version": "3.10.8"
  }
 },
 "nbformat": 4,
 "nbformat_minor": 5
}
